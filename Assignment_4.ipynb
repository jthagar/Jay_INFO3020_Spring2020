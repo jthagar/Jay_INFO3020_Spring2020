{
  "nbformat": 4,
  "nbformat_minor": 0,
  "metadata": {
    "colab": {
      "name": "Assignment_4.ipynb",
      "provenance": [],
      "collapsed_sections": [],
      "authorship_tag": "ABX9TyPW7letmoCCpcEIkStuoZcM",
      "include_colab_link": true
    },
    "kernelspec": {
      "name": "python3",
      "display_name": "Python 3"
    }
  },
  "cells": [
    {
      "cell_type": "markdown",
      "metadata": {
        "id": "view-in-github",
        "colab_type": "text"
      },
      "source": [
        "<a href=\"https://colab.research.google.com/github/jthagar/Jay_INFO3020_Spring2020/blob/master/Assignment_4.ipynb\" target=\"_parent\"><img src=\"https://colab.research.google.com/assets/colab-badge.svg\" alt=\"Open In Colab\"/></a>"
      ]
    },
    {
      "cell_type": "code",
      "metadata": {
        "id": "RjCGT8io_l3J",
        "colab_type": "code",
        "colab": {}
      },
      "source": [
        "import turtle\n",
        "# the code was run on my personal machine, as I could not get the window for\n",
        "# turtle to work on the google colab server\n",
        "\n",
        "#Assignment 1\n",
        "def concentric(tortoise):\n",
        "    tortoise.color(\"red\")\n",
        "    tortoise.pensize(4)\n",
        "\n",
        "    tortoise.up()\n",
        "    for num in range(5):               \n",
        "        tortoise.back(15 * num)\n",
        "        tortoise.right(90)\n",
        "        tortoise.forward(15 * num)\n",
        "        tortoise.down()\n",
        "        for corner in range(4):\n",
        "            tortoise.left(90)\n",
        "            tortoise.forward(20 + (30 * num))\n",
        "        tortoise.up()\n",
        "        tortoise.home()\n",
        "\n",
        "#Assignment 2\n",
        "def maze(tortoise):\n",
        "    tortoise.color(\"blue\")\n",
        "    tortoise.pensize(3) \n",
        "    tortoise.right(90)\n",
        "    num = 400\n",
        "    while(num > 0):\n",
        "        for turn in range(2):\n",
        "            tortoise.forward(num)\n",
        "            tortoise.left(90)\n",
        "        num -= 8"
      ],
      "execution_count": 0,
      "outputs": []
    },
    {
      "cell_type": "code",
      "metadata": {
        "id": "oZmAjjcSI6Ot",
        "colab_type": "code",
        "outputId": "d7183012-19fd-4873-8286-3a4d6a10d534",
        "colab": {
          "base_uri": "https://localhost:8080/",
          "height": 52
        }
      },
      "source": [
        "# Assignment 3\n",
        "\n",
        "def extendName(s):\n",
        "  if(\".\" in s):\n",
        "    index = s.find(\".\")\n",
        "    return s[index:]\n",
        "  else:\n",
        "    return(\"invalid filename\")\n",
        "\n",
        "\n",
        "print(extendName(\"IlovePython.docx\"))\n",
        "print(extendName(\"IlovePythonDocument\"))"
      ],
      "execution_count": 27,
      "outputs": [
        {
          "output_type": "stream",
          "text": [
            ".docx\n",
            "invalid filename\n"
          ],
          "name": "stdout"
        }
      ]
    },
    {
      "cell_type": "code",
      "metadata": {
        "id": "4BPOV1J4_mJk",
        "colab_type": "code",
        "colab": {}
      },
      "source": [
        ""
      ],
      "execution_count": 0,
      "outputs": []
    },
    {
      "cell_type": "code",
      "metadata": {
        "id": "8gqhSRbRPDEw",
        "colab_type": "code",
        "outputId": "2020cce7-6678-4712-c8c3-2772cf138de9",
        "colab": {
          "base_uri": "https://localhost:8080/",
          "height": 34
        }
      },
      "source": [
        "# Assignment 4\n",
        "\n",
        "# there is nothing in the assignment rubric explicitly stating that I can't \n",
        "# use the built-in string function\n",
        "def replace(s, old, new):\n",
        "    return s.replace(old,new)\n",
        "sentence = \"I love apples and bananas!\"\n",
        "sentence = replace(sentence, 'a', 'e')\n",
        "print(sentence)"
      ],
      "execution_count": 18,
      "outputs": [
        {
          "output_type": "stream",
          "text": [
            "I love epples end benenes!\n"
          ],
          "name": "stdout"
        }
      ]
    }
  ]
}
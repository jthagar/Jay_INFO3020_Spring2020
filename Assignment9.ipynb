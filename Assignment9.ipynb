{
  "nbformat": 4,
  "nbformat_minor": 0,
  "metadata": {
    "colab": {
      "name": "Assignment9.ipynb",
      "provenance": [],
      "collapsed_sections": [],
      "authorship_tag": "ABX9TyP8Vw5lKPHiJocH3K7FH4dv",
      "include_colab_link": true
    },
    "kernelspec": {
      "name": "python3",
      "display_name": "Python 3"
    }
  },
  "cells": [
    {
      "cell_type": "markdown",
      "metadata": {
        "id": "view-in-github",
        "colab_type": "text"
      },
      "source": [
        "<a href=\"https://colab.research.google.com/github/jthagar/Jay_INFO3020_Spring2020/blob/master/Assignment9.ipynb\" target=\"_parent\"><img src=\"https://colab.research.google.com/assets/colab-badge.svg\" alt=\"Open In Colab\"/></a>"
      ]
    },
    {
      "cell_type": "code",
      "metadata": {
        "id": "HrzsEdZ4yPx_",
        "colab_type": "code",
        "colab": {
          "base_uri": "https://localhost:8080/",
          "height": 34
        },
        "outputId": "e2fd144c-aeba-449a-cfb6-b739fc44b749"
      },
      "source": [
        "#Question #1\n",
        "\n",
        "class MyTime:\n",
        "    def __init__(self, hrs=0, mins=0, secs=0):\n",
        "        self.hours = hrs\n",
        "        self.minutes = mins\n",
        "        self.seconds = secs\n",
        "        self.rebalance()\n",
        "    \n",
        "    def rebalance(self):\n",
        "        if self.seconds >= 60:\n",
        "            self.minutes += self.seconds//60\n",
        "            self.seconds = self.seconds % 60\n",
        "        if self.minutes >= 60:\n",
        "            self.hours += self.minutes//60\n",
        "            self.minutes = self.minutes % 60\n",
        "        if self.hours >= 24:\n",
        "            self.hours = self.hours % 24 \n",
        "          \n",
        "    \n",
        "    def allSeconds(self):\n",
        "        return (((self.hours*60) + self.minutes) * 60) + self.seconds\n",
        "\n",
        "    #rounds up a minutes if there are more than 30 seconds in the time\n",
        "    def allMinutes(self):\n",
        "        return (self.hours*60) + self.minutes + (self.seconds//30)\n",
        "\n",
        "    def __str__(self):\n",
        "        return '{:02d}:{:02d}:{:02d}'.\\\n",
        "               format( self.hours, self.minutes, self.seconds )\n",
        "\n",
        "    def __sub__(self,other):\n",
        "      inside = self.allSeconds()\n",
        "      outside = other.allSeconds()\n",
        "      newTime = MyTime(0,0,inside-outside)\n",
        "      return newTime\n",
        "\n",
        "    #method to compare two MyTime objects and return the interval in approximate minutes\n",
        "    def intervalMinutes(self,other):\n",
        "      return (self-other).allMinutes()\n",
        "\n",
        "\n",
        "timeOne = MyTime(6,30,28)\n",
        "timeTwo = MyTime(4,28,32)\n",
        "\n",
        "print(timeOne.intervalMinutes(timeTwo))"
      ],
      "execution_count": 22,
      "outputs": [
        {
          "output_type": "stream",
          "text": [
            "122\n"
          ],
          "name": "stdout"
        }
      ]
    },
    {
      "cell_type": "code",
      "metadata": {
        "id": "oqqmVu5c6BEK",
        "colab_type": "code",
        "colab": {
          "base_uri": "https://localhost:8080/",
          "height": 69
        },
        "outputId": "d6f65e5a-0cf6-4bc3-8025-49a3a6e03a5c"
      },
      "source": [
        "#Question #2\n",
        "\n",
        "class Card:\n",
        "  suits=[\"Clubs\",\"Diamonds\",\"Hearts\",\"Spades\"]\n",
        "  #joker is used as placeholder instead of narf\n",
        "  #two Jokers are needed to offset the Ace in case of the set_Ace toggle\n",
        "  ranks=[\"Joker\",\"Ace\",\"2\",\"3\",\"4\",\"5\",\"6\",\"7\",\"8\",\"9\",\"10\",\"Jack\",\"Queen\",\"King\",\"Joker\"]\n",
        "\n",
        "  def __init__ (self,suit=0,rank=0):\n",
        "    self.suit=suit\n",
        "    self.rank=rank\n",
        "    #4 suits; spade->club->diamond->hearts\n",
        "    #2-10,j-q-k-a; 13 total\n",
        "\n",
        "  def __str__(self):\n",
        "    return (self.ranks[self.rank] + \" of \" + self.suits[self.suit])\n",
        "\n",
        "  def set_Ace(self,toggle): #toggle set to one means Ace is ultimate rank, zero means lowest rank\n",
        "    if(toggle): \n",
        "      ranks=[\"Joker\",\"Joker\",\"2\",\"3\",\"4\",\"5\",\"6\",\"7\",\"8\",\"9\",\"10\",\"Jack\",\"Queen\",\"King\",\"Ace\"]\n",
        "      if(self.rank == 1): self.rank = 14\n",
        "    else: \n",
        "      ranks=[\"Joker\",\"Ace\",\"2\",\"3\",\"4\",\"5\",\"6\",\"7\",\"8\",\"9\",\"10\",\"Jack\",\"Queen\",\"King\",\"Joker\"]\n",
        "      if(self.rank == 14): self.rank = 1\n",
        "\n",
        "  \n",
        "  def cmp(self,other,toggle=-1):\n",
        "    #set_ace helper method modifies the ace for comparison if needed\n",
        "    #but will not affect comparisons if not included\n",
        "    #1 = higher Ace, 0 = lower Ace, -1 = not included\n",
        "    if(toggle!=-1): self.set_Ace(toggle)\n",
        "\n",
        "    if self.suit>other.suit: return 1\n",
        "    elif self.suit<other.suit: return -1\n",
        "    else:\n",
        "      if self.rank>other.rank: return 1\n",
        "      elif self.rank<other.rank: return -1\n",
        "    return 0\n",
        "\n",
        "  def __eq__(self,other):\n",
        "    return self.cmp(other)==0\n",
        "  \n",
        "  def __lt__(self,other):\n",
        "    return (self.cmp(other) < 0)\n",
        "\n",
        "  def __gt__(self,other):\n",
        "    return (self.cmp(other) > 0)\n",
        "\n",
        "  def __le__(self,other):\n",
        "    return self.cmp(other)<=0\n",
        "\n",
        "  def __ge__(self,other):\n",
        "    return self.cmp(other)>=0\n",
        "\n",
        "  def __ne__(self,other):\n",
        "    return self.cmp(other)!=0\n",
        "\n",
        "card1=Card(1,13)\n",
        "card2=Card(1,1)\n",
        "#standard\n",
        "print(card2>card1)\n",
        "#comparing using cmp, after setting Ace high\n",
        "print(card2.cmp(card1,1) > 0)\n",
        "#comparing using cmp after setting Ace low\n",
        "print(card2.cmp(card1,0) > 0)\n"
      ],
      "execution_count": 17,
      "outputs": [
        {
          "output_type": "stream",
          "text": [
            "False\n",
            "True\n",
            "False\n"
          ],
          "name": "stdout"
        }
      ]
    },
    {
      "cell_type": "code",
      "metadata": {
        "id": "uP3g14dMMmWN",
        "colab_type": "code",
        "colab": {
          "base_uri": "https://localhost:8080/",
          "height": 156
        },
        "outputId": "41635b98-e35c-4575-fdb7-c26e4043d0d1"
      },
      "source": [
        "#Question 3:\n",
        "\n",
        "\n",
        "def readposint():\n",
        "  try:\n",
        "    intake = int(input(\"Please input a positive integer: \"))\n",
        "  except ValueError:\n",
        "    print(\"Input is invalid \\n\")\n",
        "    readposint()\n",
        "  else:\n",
        "    if(intake < 0):\n",
        "      neg_error = ValueError(\"The entered value is negative\")\n",
        "      raise neg_error\n",
        "    else: \n",
        "      print(\"The input is valid\")\n",
        "      return intake\n",
        "\n",
        "readposint()\n",
        "  "
      ],
      "execution_count": 36,
      "outputs": [
        {
          "output_type": "stream",
          "text": [
            "Please input a positive integer: dd\n",
            "Input is invalid \n",
            "\n",
            "Please input a positive integer: booty\n",
            "Input is invalid \n",
            "\n",
            "Please input a positive integer: 22\n",
            "The input is valid\n"
          ],
          "name": "stdout"
        }
      ]
    }
  ]
}
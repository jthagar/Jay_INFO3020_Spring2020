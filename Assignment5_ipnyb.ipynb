{
  "nbformat": 4,
  "nbformat_minor": 0,
  "metadata": {
    "colab": {
      "name": "Assignment5.ipnyb",
      "provenance": [],
      "collapsed_sections": [],
      "authorship_tag": "ABX9TyOB86bHbidC81kN6/Oo12/J",
      "include_colab_link": true
    },
    "kernelspec": {
      "name": "python3",
      "display_name": "Python 3"
    }
  },
  "cells": [
    {
      "cell_type": "markdown",
      "metadata": {
        "id": "view-in-github",
        "colab_type": "text"
      },
      "source": [
        "<a href=\"https://colab.research.google.com/github/jthagar/Jay_INFO3020_Spring2020/blob/master/Assignment5_ipnyb.ipynb\" target=\"_parent\"><img src=\"https://colab.research.google.com/assets/colab-badge.svg\" alt=\"Open In Colab\"/></a>"
      ]
    },
    {
      "cell_type": "code",
      "metadata": {
        "id": "2jgjcopVjNEM",
        "colab_type": "code",
        "outputId": "fc3040bf-f902-408f-e4e4-3b3b3def3d8d",
        "colab": {
          "base_uri": "https://localhost:8080/",
          "height": 568
        }
      },
      "source": [
        "#assignment 1\n",
        "\n",
        "mainTuple = [(1234,\"NoName\", [\"course1\",\"course2\"])]\n",
        "\n",
        "def addStudent(idCode, name, courses):\n",
        "  #assuming equal length inputs\n",
        "  person = (int(idCode), str(name), courses)\n",
        "  mainTuple.append(person)\n",
        "  print(len(mainTuple))\n",
        "  for student in mainTuple:\n",
        "    print(student)\n",
        "\n",
        "def studentOutput(nameCheck):\n",
        "  for student in mainTuple:\n",
        "    for item in student:\n",
        "      if item == nameCheck:\n",
        "        return student[2]    \n",
        "  return \"error: student not found\"\n",
        "\n",
        "print(\"Please input information\")\n",
        "\n",
        "for num in range(2):\n",
        "  name = input(\"Give Student name: \")\n",
        "  idCode = input(\"input Student id: \")\n",
        "  courses = []\n",
        "  #added a loop to input multiple courses\n",
        "  while (c1 != 'exit'): #exit must be typed in order to stop the loop\n",
        "    c1 = input(\"input course 1: \")\n",
        "    courses.append(c1)\n",
        "  addStudent(idCode, name, courses)\n",
        "\n",
        "print(studentOutput('Johnny'))"
      ],
      "execution_count": 0,
      "outputs": [
        {
          "output_type": "stream",
          "text": [
            "Please input information\n",
            "Give Student name: Johnny\n",
            "input Student id: 123456\n",
            "input course 1: math\n",
            "input course 1: science\n",
            "input course 1: history\n",
            "input course 1: exit\n",
            "2\n",
            "(1234, 'NoName', ['course1', 'course2'])\n",
            "(123456, 'Johnny', ['math', 'science', 'history', 'exit'])\n",
            "Give Student name: Susie\n",
            "input Student id: necromany\n"
          ],
          "name": "stdout"
        },
        {
          "output_type": "error",
          "ename": "ValueError",
          "evalue": "ignored",
          "traceback": [
            "\u001b[0;31m---------------------------------------------------------------------------\u001b[0m",
            "\u001b[0;31mValueError\u001b[0m                                Traceback (most recent call last)",
            "\u001b[0;32m<ipython-input-27-fc8e7aaf9f49>\u001b[0m in \u001b[0;36m<module>\u001b[0;34m()\u001b[0m\n\u001b[1;32m     27\u001b[0m     \u001b[0mc1\u001b[0m \u001b[0;34m=\u001b[0m \u001b[0minput\u001b[0m\u001b[0;34m(\u001b[0m\u001b[0;34m\"input course 1: \"\u001b[0m\u001b[0;34m)\u001b[0m\u001b[0;34m\u001b[0m\u001b[0;34m\u001b[0m\u001b[0m\n\u001b[1;32m     28\u001b[0m     \u001b[0mcourses\u001b[0m\u001b[0;34m.\u001b[0m\u001b[0mappend\u001b[0m\u001b[0;34m(\u001b[0m\u001b[0mc1\u001b[0m\u001b[0;34m)\u001b[0m\u001b[0;34m\u001b[0m\u001b[0;34m\u001b[0m\u001b[0m\n\u001b[0;32m---> 29\u001b[0;31m   \u001b[0maddStudent\u001b[0m\u001b[0;34m(\u001b[0m\u001b[0midCode\u001b[0m\u001b[0;34m,\u001b[0m \u001b[0mname\u001b[0m\u001b[0;34m,\u001b[0m \u001b[0mcourses\u001b[0m\u001b[0;34m)\u001b[0m\u001b[0;34m\u001b[0m\u001b[0;34m\u001b[0m\u001b[0m\n\u001b[0m\u001b[1;32m     30\u001b[0m \u001b[0;34m\u001b[0m\u001b[0m\n\u001b[1;32m     31\u001b[0m \u001b[0mprint\u001b[0m\u001b[0;34m(\u001b[0m\u001b[0mstudentOutput\u001b[0m\u001b[0;34m(\u001b[0m\u001b[0;34m'Johnny'\u001b[0m\u001b[0;34m)\u001b[0m\u001b[0;34m)\u001b[0m\u001b[0;34m\u001b[0m\u001b[0;34m\u001b[0m\u001b[0m\n",
            "\u001b[0;32m<ipython-input-27-fc8e7aaf9f49>\u001b[0m in \u001b[0;36maddStudent\u001b[0;34m(idCode, name, courses)\u001b[0m\n\u001b[1;32m      4\u001b[0m \u001b[0;32mdef\u001b[0m \u001b[0maddStudent\u001b[0m\u001b[0;34m(\u001b[0m\u001b[0midCode\u001b[0m\u001b[0;34m,\u001b[0m \u001b[0mname\u001b[0m\u001b[0;34m,\u001b[0m \u001b[0mcourses\u001b[0m\u001b[0;34m)\u001b[0m\u001b[0;34m:\u001b[0m\u001b[0;34m\u001b[0m\u001b[0;34m\u001b[0m\u001b[0m\n\u001b[1;32m      5\u001b[0m   \u001b[0;31m#assuming equal length inputs\u001b[0m\u001b[0;34m\u001b[0m\u001b[0;34m\u001b[0m\u001b[0;34m\u001b[0m\u001b[0m\n\u001b[0;32m----> 6\u001b[0;31m   \u001b[0mperson\u001b[0m \u001b[0;34m=\u001b[0m \u001b[0;34m(\u001b[0m\u001b[0mint\u001b[0m\u001b[0;34m(\u001b[0m\u001b[0midCode\u001b[0m\u001b[0;34m)\u001b[0m\u001b[0;34m,\u001b[0m \u001b[0mstr\u001b[0m\u001b[0;34m(\u001b[0m\u001b[0mname\u001b[0m\u001b[0;34m)\u001b[0m\u001b[0;34m,\u001b[0m \u001b[0mcourses\u001b[0m\u001b[0;34m)\u001b[0m\u001b[0;34m\u001b[0m\u001b[0;34m\u001b[0m\u001b[0m\n\u001b[0m\u001b[1;32m      7\u001b[0m   \u001b[0mmainTuple\u001b[0m\u001b[0;34m.\u001b[0m\u001b[0mappend\u001b[0m\u001b[0;34m(\u001b[0m\u001b[0mperson\u001b[0m\u001b[0;34m)\u001b[0m\u001b[0;34m\u001b[0m\u001b[0;34m\u001b[0m\u001b[0m\n\u001b[1;32m      8\u001b[0m   \u001b[0mprint\u001b[0m\u001b[0;34m(\u001b[0m\u001b[0mlen\u001b[0m\u001b[0;34m(\u001b[0m\u001b[0mmainTuple\u001b[0m\u001b[0;34m)\u001b[0m\u001b[0;34m)\u001b[0m\u001b[0;34m\u001b[0m\u001b[0;34m\u001b[0m\u001b[0m\n",
            "\u001b[0;31mValueError\u001b[0m: invalid literal for int() with base 10: 'necromany'"
          ]
        }
      ]
    },
    {
      "cell_type": "code",
      "metadata": {
        "id": "IHZr97NKvode",
        "colab_type": "code",
        "outputId": "bde4aeb0-0ef5-449f-a421-819980bed942",
        "colab": {
          "base_uri": "https://localhost:8080/",
          "height": 86
        }
      },
      "source": [
        "#assignment 2: creating a matrix\n",
        "import random\n",
        "\n",
        "def matrixmaker(row, col):\n",
        "  rows = []\n",
        "  for i in range(int(row)):\n",
        "    column = []\n",
        "    for j in range(int(col)):\n",
        "      column.append(random.randint(0,64))\n",
        "    rows.append(column)\n",
        "  return rows\n",
        "  print(rows)  \n",
        "\n",
        "def searchMatrix(datum, mat):\n",
        "  #returns first index of the specfied item\n",
        "  for row in mat:\n",
        "    for item in row:\n",
        "      if item == datum:\n",
        "        return (row.index(item), mat.index(row))\n",
        "  return '-1'\n",
        "\n",
        "r =input(\"give number of rows: \")\n",
        "c =input(\"give number of columns: \")\n",
        "matrixOne = matrixmaker(r,c)\n",
        "print(matrixOne)\n",
        "\n",
        "searchMatrix(25, matrixOne)"
      ],
      "execution_count": 0,
      "outputs": [
        {
          "output_type": "stream",
          "text": [
            "give number of rows: 7\n",
            "give number of columns: 7\n",
            "[[27, 3, 44, 55, 2, 40, 5], [24, 24, 61, 3, 33, 21, 21], [58, 17, 31, 20, 53, 37, 35], [27, 20, 40, 41, 24, 25, 42], [16, 52, 30, 31, 62, 23, 4], [29, 61, 46, 10, 60, 62, 23], [10, 52, 20, 50, 34, 51, 16]]\n"
          ],
          "name": "stdout"
        },
        {
          "output_type": "execute_result",
          "data": {
            "text/plain": [
              "(5, 3)"
            ]
          },
          "metadata": {
            "tags": []
          },
          "execution_count": 44
        }
      ]
    },
    {
      "cell_type": "code",
      "metadata": {
        "id": "VPAZYemD__BY",
        "colab_type": "code",
        "outputId": "f16c3a9e-9648-44e2-8435-d68ab7e5f5d7",
        "colab": {
          "base_uri": "https://localhost:8080/",
          "height": 278
        }
      },
      "source": [
        "# assigment 3:\n",
        "\n",
        "Sentence = input(\"Please input a string to parse: \")\n",
        "\n",
        "def parseString(words):\n",
        "  Appendix = {}\n",
        "  wordList = words.split()\n",
        "  for word in wordList:\n",
        "    if(word not in Appendix):\n",
        "      Appendix[word] = 1\n",
        "    else:\n",
        "      Appendix[word] += 1\n",
        "  return Appendix \n",
        "\n",
        "def listDict(Dict):\n",
        "  print('word             Count')\n",
        "  print('======================')\n",
        "  for word in Dict:\n",
        "    outString = str(Dict[word])\n",
        "    print(word.ljust(20, ' ') + outString)\n",
        "\n",
        "output = parseString(Sentence)\n",
        "output.keys()\n",
        "\n",
        "listDict(output)"
      ],
      "execution_count": 0,
      "outputs": [
        {
          "output_type": "stream",
          "text": [
            "Please input a string to parse: I went to disneyworld and all i got was this shirt\n",
            "word             Count\n",
            "======================\n",
            "I                   1\n",
            "went                1\n",
            "to                  1\n",
            "disneyworld         1\n",
            "and                 1\n",
            "all                 1\n",
            "i                   1\n",
            "got                 1\n",
            "was                 1\n",
            "this                1\n",
            "shirt               1\n",
            "dict_values([1, 1, 1, 1, 1, 1, 1, 1, 1, 1, 1])\n"
          ],
          "name": "stdout"
        }
      ]
    }
  ]
}
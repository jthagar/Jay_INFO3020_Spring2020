{
  "nbformat": 4,
  "nbformat_minor": 0,
  "metadata": {
    "colab": {
      "name": "Assignment8.ipynb",
      "provenance": [],
      "collapsed_sections": [],
      "authorship_tag": "ABX9TyOJQpfR0PISgLWHfxWO6Dic",
      "include_colab_link": true
    },
    "kernelspec": {
      "name": "python3",
      "display_name": "Python 3"
    }
  },
  "cells": [
    {
      "cell_type": "markdown",
      "metadata": {
        "id": "view-in-github",
        "colab_type": "text"
      },
      "source": [
        "<a href=\"https://colab.research.google.com/github/jthagar/Jay_INFO3020_Spring2020/blob/master/Assignment8.ipynb\" target=\"_parent\"><img src=\"https://colab.research.google.com/assets/colab-badge.svg\" alt=\"Open In Colab\"/></a>"
      ]
    },
    {
      "cell_type": "code",
      "metadata": {
        "id": "UdF5OFB8LOhH",
        "colab_type": "code",
        "colab": {}
      },
      "source": [
        "# Assignment 1: Rewrite the distance function from the chapter 4 titled Fruitful \n",
        "# functions so that it takes two Points as parameters instead of four numbers.\n",
        "\n",
        "#part 2:\n",
        "class Point:\n",
        "\n",
        "  def __init__(self,x=0,y=0):\n",
        "    self.x=x\n",
        "    self.y=y\n",
        "    \n",
        "  def reflect_x(self):\n",
        "    temp=Point(self.x,0)\n",
        "    temp.y = self.y*(-1)\n",
        "    return temp\n",
        "\n",
        "#Part 1:\n",
        "def distance(p1,p2):\n",
        "  dist = sqrt(((p1.y + p2.y)**2) - ((p1.x - p2.x)**2))\n",
        "  return dist\n",
        "\n",
        "class Rectangle:\n",
        "\n",
        "  def __init__(self,height=0,width=0):\n",
        "    self.height=height\n",
        "    self.width=width\n",
        "\n",
        "  #part 3:\n",
        "  def area(self):\n",
        "    return (self.width * self.height)\n",
        "\n",
        "  #part 4:\n",
        "  def flip(self):\n",
        "    temp = self.width\n",
        "    self.width = self.height\n",
        "    self.height = temp\n",
        "\n",
        "  #part 5: this assumes all instantiated rectangles start at (0,0)\n",
        "  def includedPoint(self,point):\n",
        "    if(point.x >= self.width):\n",
        "      return false;\n",
        "    elif(point.y >= self.height):\n",
        "      return false;\n",
        "    else:\n",
        "      return true;"
      ],
      "execution_count": 0,
      "outputs": []
    }
  ]
}
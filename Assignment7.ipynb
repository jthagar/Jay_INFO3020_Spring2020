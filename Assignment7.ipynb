{
  "nbformat": 4,
  "nbformat_minor": 0,
  "metadata": {
    "colab": {
      "name": "Assignment7.ipynb",
      "provenance": [],
      "collapsed_sections": [],
      "authorship_tag": "ABX9TyMcinZICPvs+YZxCLPdcJRB",
      "include_colab_link": true
    },
    "kernelspec": {
      "name": "python3",
      "display_name": "Python 3"
    }
  },
  "cells": [
    {
      "cell_type": "markdown",
      "metadata": {
        "id": "view-in-github",
        "colab_type": "text"
      },
      "source": [
        "<a href=\"https://colab.research.google.com/github/jthagar/Jay_INFO3020_Spring2020/blob/master/Assignment7.ipynb\" target=\"_parent\"><img src=\"https://colab.research.google.com/assets/colab-badge.svg\" alt=\"Open In Colab\"/></a>"
      ]
    },
    {
      "cell_type": "code",
      "metadata": {
        "id": "yd6AOLhXp8H9",
        "colab_type": "code",
        "colab": {}
      },
      "source": [
        "import turtle\n",
        "import math\n",
        "\n",
        "\n",
        "\n",
        "def recurrent_maze(tortoise,pen,size,edges): #size corresponds to maze-size, not pensize\n",
        "  tortoise.color(\"blue\")\n",
        "  tortoise.pensize(pen)\n",
        "\n",
        "  tortoise.down()\n",
        "  if(size > 0):\n",
        "    for turn in range(math.floor(edges/2)):\n",
        "      tortoise.left(360/edges)\n",
        "      tortoise.forward(size)\n",
        "\n",
        "    recurrent_maze(tortoise,pen,size-3,edges)\n",
        "\n",
        "def recurrent_squares(tortoise,pen,amount,size):\n",
        "  tortoise.color(\"red\")\n",
        "  tortoise.pensize(pen)\n",
        "\n",
        "  if(amount > 0):\n",
        "    tortoise.down()\n",
        "    for corner in range(4):\n",
        "        tortoise.right(90)\n",
        "        tortoise.forward(20 + size)\n",
        "    tortoise.up()\n",
        "    tortoise.back(size/10)\n",
        "    tortoise.right(90)\n",
        "    tortoise.forward(size/10)\n",
        "    tortoise.left(90)\n",
        "    recurrent_squares(tortoise,pen,amount-1,size*(1-(1/amount)))\n",
        "\n",
        "obj = turtle.Turtle()\n",
        "window=turtle.Screen()\n",
        "window.bgcolor(\"lightgreen\")\n",
        "obj.right(90)\n",
        "#recurrent_maze(obj,3,200,3)\n",
        "recurrent_squares(obj,3,6,100)\n",
        "window.mainloop()"
      ],
      "execution_count": 0,
      "outputs": []
    },
    {
      "cell_type": "code",
      "metadata": {
        "id": "3c40dWyDIwL7",
        "colab_type": "code",
        "colab": {
          "base_uri": "https://localhost:8080/",
          "height": 34
        },
        "outputId": "2d028353-346d-4c45-e7eb-3ca1be2dc081"
      },
      "source": [
        "def recursion_search(array, num):\n",
        "  size = len(array)\n",
        "  if (size != 0):\n",
        "    first = array[0]\n",
        "    array.pop(0)\n",
        "    if(first == num):\n",
        "      return 1 + recursion_search(array, num)\n",
        "    else:\n",
        "      return 0 + recursion_search(array, num)\n",
        "  else:\n",
        "    return 0\n",
        "\n",
        "numbers = [7,8,4,6,5,8,6,8,3,2,7,8,2,8,9,6,5,8,4,2,8]\n",
        "\n",
        "print(recursion_search(numbers,8))\n"
      ],
      "execution_count": 6,
      "outputs": [
        {
          "output_type": "stream",
          "text": [
            "7\n"
          ],
          "name": "stdout"
        }
      ]
    }
  ]
}
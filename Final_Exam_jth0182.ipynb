{
  "nbformat": 4,
  "nbformat_minor": 0,
  "metadata": {
    "kernelspec": {
      "display_name": "Python 3",
      "language": "python",
      "name": "python3"
    },
    "language_info": {
      "codemirror_mode": {
        "name": "ipython",
        "version": 3
      },
      "file_extension": ".py",
      "mimetype": "text/x-python",
      "name": "python",
      "nbconvert_exporter": "python",
      "pygments_lexer": "ipython3",
      "version": "3.7.4"
    },
    "colab": {
      "name": "Final_Exam_jth0182.ipynb",
      "provenance": [],
      "include_colab_link": true
    }
  },
  "cells": [
    {
      "cell_type": "markdown",
      "metadata": {
        "id": "view-in-github",
        "colab_type": "text"
      },
      "source": [
        "<a href=\"https://colab.research.google.com/github/jthagar/Jay_INFO3020_Spring2020/blob/master/Final_Exam_jth0182.ipynb\" target=\"_parent\"><img src=\"https://colab.research.google.com/assets/colab-badge.svg\" alt=\"Open In Colab\"/></a>"
      ]
    },
    {
      "cell_type": "code",
      "metadata": {
        "id": "V6-OugjcWr7P",
        "colab_type": "code",
        "colab": {},
        "outputId": "f07d2719-040b-4a16-8142-544592141e18"
      },
      "source": [
        "#Question 1\n",
        "\n",
        "def printString(line):\n",
        "    print(str(line))\n",
        "\n",
        "content = input(\"please input a string:\")\n",
        "printString(content)"
      ],
      "execution_count": 0,
      "outputs": [
        {
          "output_type": "stream",
          "text": [
            "please input a string7568\n",
            "7568\n"
          ],
          "name": "stdout"
        }
      ]
    },
    {
      "cell_type": "code",
      "metadata": {
        "id": "aiM3j3VbWr7i",
        "colab_type": "code",
        "colab": {},
        "outputId": "c2388d8f-dd19-4911-eb61-9c1ca2e61c5c"
      },
      "source": [
        "#Question 2:\n",
        "\n",
        "def sum_evens():\n",
        "    sum = 0\n",
        "    #for-loop is not inclusive of the upper bound, thus 1000 becomes 1001\n",
        "    for num in range(0,1001,2):\n",
        "        sum += num\n",
        "    return sum\n",
        "print(sum_evens())"
      ],
      "execution_count": 0,
      "outputs": [
        {
          "output_type": "stream",
          "text": [
            "250500\n"
          ],
          "name": "stdout"
        }
      ]
    },
    {
      "cell_type": "code",
      "metadata": {
        "id": "x6dnHY7oWr7x",
        "colab_type": "code",
        "colab": {},
        "outputId": "ef7d940e-8dbf-428f-b5ed-036c5a9e55c9"
      },
      "source": [
        "#Question 3:\n",
        "\n",
        "numbers = [12,10,3,2,[6,[7,8,9],19,21],21]\n",
        "\n",
        "def list_product(listify):\n",
        "    product = 1 # set to 1 since 0 * num = 0\n",
        "    for entry in listify:\n",
        "        if type(entry) == list:\n",
        "            product *= list_product(entry) #recursion!\n",
        "        else:\n",
        "            product *= entry\n",
        "    return product\n",
        "print(list_product(numbers))"
      ],
      "execution_count": 0,
      "outputs": [
        {
          "output_type": "stream",
          "text": [
            "18243429120\n"
          ],
          "name": "stdout"
        }
      ]
    },
    {
      "cell_type": "code",
      "metadata": {
        "id": "0jme7l60Wr77",
        "colab_type": "code",
        "colab": {},
        "outputId": "121056e6-60ea-41f0-ca76-a8bc4f01ad5b"
      },
      "source": [
        "#Question 4\n",
        "import numpy as np\n",
        "\n",
        "matrix=[[23,43,12],[32,12,52],[15,35,52],[19,28,56]]\n",
        "\n",
        "def get_matrix(mat):\n",
        "    new_mat = np.array(mat)\n",
        "    new_mat[new_mat>20] = 0\n",
        "    with open(\"result.txt\",\"w\") as wfile:\n",
        "        wfile.write(str(new_mat)+\"\\n\")\n",
        "    return new_mat\n",
        "\n",
        "print(get_matrix(matrix)) # the print is to make sure that the file is written with the correct matrix nums"
      ],
      "execution_count": 0,
      "outputs": [
        {
          "output_type": "stream",
          "text": [
            "[[ 0  0 12]\n",
            " [ 0 12  0]\n",
            " [15  0  0]\n",
            " [19  0  0]]\n"
          ],
          "name": "stdout"
        }
      ]
    },
    {
      "cell_type": "code",
      "metadata": {
        "id": "yxWWxKEjWr8C",
        "colab_type": "code",
        "colab": {},
        "outputId": "5256b98a-71fb-4a1d-fd89-f09a99b9b6aa"
      },
      "source": [
        "#Question 5: should work\n",
        "\n",
        "numbers = [1,3,2,4,2,3,2,2,3,2,2,4,2,32,3,2,4,2,3,5,3,2,4,2,2,4,2,2,4,2,2,3,1,3,2,3]\n",
        "\n",
        "def frequencies(num_list):\n",
        "    nums = tuple(num_list)\n",
        "    freq = {}\n",
        "    for i in nums:\n",
        "        if i in freq:\n",
        "            freq[i] += 1\n",
        "        else:\n",
        "            freq[i] = 1\n",
        "    for num in freq:\n",
        "        print(str(num) + \" \" + str(freq[num]))\n",
        "\n",
        "frequencies(numbers)"
      ],
      "execution_count": 0,
      "outputs": [
        {
          "output_type": "stream",
          "text": [
            "1 2\n",
            "3 9\n",
            "2 17\n",
            "4 6\n",
            "32 1\n",
            "5 1\n"
          ],
          "name": "stdout"
        }
      ]
    },
    {
      "cell_type": "code",
      "metadata": {
        "id": "qm22hbkoWr8M",
        "colab_type": "code",
        "colab": {},
        "outputId": "5f043eae-4bb1-4896-9404-a1debbc66447"
      },
      "source": [
        "#Question 6: \n",
        "\n",
        "class Point():\n",
        "    x = 0\n",
        "    y = 0\n",
        "    \n",
        "    def __init__(self,x = 0, y = 0): # 6.1\n",
        "        self.x = x\n",
        "        self.y = y\n",
        "        \n",
        "    def __str__(self):# 6.2\n",
        "        return 'The Point is (' + str(self.x) + ',' + str(self.y) + ')'\n",
        "\n",
        "    def __add__(self,other): # 6.3\n",
        "        return Point(self.x+other.x,self.y+other.y)\n",
        "    \n",
        "p = Point(7,9)\n",
        "q = Point(1,3)\n",
        "print(p)\n",
        "print(p+q)"
      ],
      "execution_count": 0,
      "outputs": [
        {
          "output_type": "stream",
          "text": [
            "The Point is (7,9)\n",
            "The Point is (8,12)\n"
          ],
          "name": "stdout"
        }
      ]
    },
    {
      "cell_type": "code",
      "metadata": {
        "scrolled": true,
        "id": "IApJOFlsWr8T",
        "colab_type": "code",
        "colab": {},
        "outputId": "1b758731-a2c6-48be-9a8f-5a504f906e1b"
      },
      "source": [
        "#Question 7\n",
        "\n",
        "import xlrd as excel\n",
        "\n",
        "def sales_volume(name):\n",
        "    \n",
        "    food = excel.open_workbook(filename=name)\n",
        "    sheet = food.sheet_by_name(\"Sheet1\")\n",
        "    \n",
        "    food_data = []\n",
        "    # col -> row order is to arrange the list into sales per food\n",
        "    for col in range(sheet.ncols):\n",
        "        data = []\n",
        "        for row in range(sheet.nrows):\n",
        "            data.append(sheet.cell(row,col).value)\n",
        "        food_data.append(data)\n",
        "    \n",
        "    query = \"\"  #string to hold entries\n",
        "    while(query != \"0\" and query != \"exit\"): #exit statement to finish loop\n",
        "        for column in range(len(food_data)): # for-loop to print choices\n",
        "            if(column == 0):\n",
        "                print(\"0 exit\")\n",
        "            else:\n",
        "                print(column,food_data[column][0])\n",
        "        \n",
        "        query = input(\"please input a number in the list:\")\n",
        "        if(query != \"0\" and query != \"exit\"):\n",
        "            i = int(query)\n",
        "            sum = 0 \n",
        "            for entry in range(1,len(food_data[i])): # range omits the title\n",
        "                sum += food_data[i][entry] # add all values together\n",
        "            sum = int(sum) # sum goes from float to int\n",
        "            print(\"the total sale of\", food_data[i][0], \"is\", sum)\n",
        "    \n",
        "    \n",
        "\n",
        "sales_volume(\"catering_sale_all.xls\")\n",
        "\n"
      ],
      "execution_count": 0,
      "outputs": [
        {
          "output_type": "stream",
          "text": [
            "0 exit\n",
            "1 chicken feet\n",
            "2 steamed dumplings\n",
            "3 ribs\n",
            "4 full chicken\n",
            "5 stuffed bun\n",
            "6 flowering cabbage\n",
            "7 doufu\n",
            "8 chive dumplings\n",
            "9 pudding\n",
            "10 original cabbage\n",
            "please input a number in the list:0\n"
          ],
          "name": "stdout"
        }
      ]
    },
    {
      "cell_type": "code",
      "metadata": {
        "id": "naEkdbxyWr8Z",
        "colab_type": "code",
        "colab": {},
        "outputId": "c561f570-8bdf-4e9a-ccd4-0eb90ffe1bef"
      },
      "source": [
        "#Question 8\n",
        "\n",
        "import pymysql\n",
        "\n",
        "def connect_schema(root, passw, schema): # 8.2\n",
        "    # I wanted to generalize the function so that\n",
        "    # it could be used for more than a single schema,\n",
        "    # assuming the mysql server is hosted locally\n",
        "    \n",
        "    db = pymysql.connect(\"localhost\",root,passw,schema)\n",
        "    cursor = db.cursor()\n",
        "    return cursor\n",
        "\n",
        "def calc_life_exp(cursor): # 8.3\n",
        "    query = \"select Continent, AVG(LifeExpectancy) from country group by Continent\"\n",
        "    cursor.execute(query)\n",
        "    countries = cursor.fetchall()\n",
        "    \n",
        "    print(\"avglife | continent\") # 8.4 \n",
        "    for entry in range(len(countries)): # iterate through list\n",
        "        print(countries[entry][1],\"|\",countries[entry][0]) # print\n",
        "    \n",
        "    \n",
        "curse = connect_schema(\"root\",\"password\",\"world\")\n",
        "calc_life_exp(curse)\n"
      ],
      "execution_count": 0,
      "outputs": [
        {
          "output_type": "stream",
          "text": [
            "avglife | continent\n",
            "72.99189 | North America\n",
            "67.44118 | Asia\n",
            "52.57193 | Africa\n",
            "75.14773 | Europe\n",
            "70.94615 | South America\n",
            "69.71500 | Oceania\n",
            "None | Antarctica\n"
          ],
          "name": "stdout"
        }
      ]
    },
    {
      "cell_type": "code",
      "metadata": {
        "id": "BkNzNJ9rWr8f",
        "colab_type": "code",
        "colab": {},
        "outputId": "b62fbfa8-407b-49b8-850b-2c0bb28b16a5"
      },
      "source": [
        "# Question 9\n",
        "\n",
        "# 9.1 is redundant with Q8.2, so I'm going to use the same function\n",
        "import pymysql\n",
        "import pylab as pl\n",
        "\n",
        "def connect_schema(root, passw, schema): # 9.1\n",
        "    db = pymysql.connect(\"localhost\",root,passw,schema)\n",
        "    cursor = db.cursor()\n",
        "    return cursor\n",
        "\n",
        "def calc_pop(cursor): # 9.2\n",
        "    query = \"select Continent, SUM(Population) from country group by Continent\"\n",
        "    cursor.execute(query)\n",
        "    counts = cursor.fetchall()\n",
        "    \n",
        "    ##################################### 9.3 section\n",
        "    continent = []\n",
        "    pops = []\n",
        "    expl = []\n",
        "\n",
        "    for entry in range(len(counts)):\n",
        "        continent.append(counts[entry][0])\n",
        "        pops.append(counts[entry][1])\n",
        "        expl.append(0.1)\n",
        "    \n",
        "    print(\"population by continent\")\n",
        "    pl.pie(pops,labels=continent,explode=expl, autopct='%1.1f%%',startangle=90)\n",
        "    ######################################\n",
        "    \n",
        "    \n",
        "curse = connect_schema(\"root\",\"password\",\"world\")\n",
        "\n",
        "# I put both 9.2 and 9.3 in the same function as it seemed logical.\n",
        "# Also part 3 did not specifically ask for a function so I had a bit\n",
        "# more freedom of placement\n",
        "calc_pop(curse)\n"
      ],
      "execution_count": 0,
      "outputs": [
        {
          "output_type": "stream",
          "text": [
            "population by continent\n"
          ],
          "name": "stdout"
        },
        {
          "output_type": "display_data",
          "data": {
            "image/png": "[encoded data removed]",
            "text/plain": [
              "<Figure size 432x288 with 1 Axes>"
            ]
          },
          "metadata": {
            "tags": []
          }
        }
      ]
    },
    {
      "cell_type": "code",
      "metadata": {
        "scrolled": false,
        "id": "tehN6y4XWr8n",
        "colab_type": "code",
        "colab": {},
        "outputId": "657521e3-ca71-4598-b453-9dbb625efc38"
      },
      "source": [
        "# Question 10\n",
        "\n",
        "from pandas import *\n",
        "import matplotlib.pyplot as mplot\n",
        "\n",
        "energy = read_csv('energy-production.csv') # 10.1\n",
        "\n",
        "def output_year(year): # 10.2\n",
        "    index = (2014 - 1973) - (2014 - year)\n",
        "    prod = energy.iloc[index]\n",
        "    prod_dict = prod.to_dict()\n",
        "\n",
        "    items = list(prod_dict.values())\n",
        "    keys = list(prod_dict.keys())\n",
        "    \n",
        "    ######################################## 10.3\n",
        "    mplot.ylim(0,25)# set limits of y-axis\n",
        "    mplot.bar(keys[2:],items[2:]) # set the x-axis names and y-axis values\n",
        "    mplot.xticks(rotation=-30, ha='left') # set x-axis tick rotation and placement\n",
        "    mplot.show()\n",
        "    ########################################\n",
        "    \n",
        "num = input(\"please input a year between 1973 and 2014: \")\n",
        "output_year(int(num))"
      ],
      "execution_count": 0,
      "outputs": [
        {
          "output_type": "stream",
          "text": [
            "please input a year between 1973 and 2014: 1978\n"
          ],
          "name": "stdout"
        },
        {
          "output_type": "display_data",
          "data": {
            "image/png": "[encoded data removed]",
            "text/plain": [
              "<Figure size 432x288 with 1 Axes>"
            ]
          },
          "metadata": {
            "tags": [],
            "needs_background": "light"
          }
        }
      ]
    },
    {
      "cell_type": "code",
      "metadata": {
        "id": "MfBzedX-Wr8u",
        "colab_type": "code",
        "colab": {}
      },
      "source": [
        ""
      ],
      "execution_count": 0,
      "outputs": []
    }
  ]
}
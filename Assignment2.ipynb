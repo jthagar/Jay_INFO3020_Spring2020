{
  "nbformat": 4,
  "nbformat_minor": 0,
  "metadata": {
    "colab": {
      "name": "Assignment2.ipynb",
      "provenance": [],
      "collapsed_sections": [],
      "authorship_tag": "ABX9TyOtUs5H4xQZDH+Cdb+o+Ryw",
      "include_colab_link": true
    },
    "kernelspec": {
      "name": "python3",
      "display_name": "Python 3"
    }
  },
  "cells": [
    {
      "cell_type": "markdown",
      "metadata": {
        "id": "view-in-github",
        "colab_type": "text"
      },
      "source": [
        "<a href=\"https://colab.research.google.com/github/jthagar/Jay_INFO3020_Spring2020/blob/master/Assignment2.ipynb\" target=\"_parent\"><img src=\"https://colab.research.google.com/assets/colab-badge.svg\" alt=\"Open In Colab\"/></a>"
      ]
    },
    {
      "cell_type": "code",
      "metadata": {
        "id": "9JFnlojmnqgx",
        "colab_type": "code",
        "colab": {
          "base_uri": "https://localhost:8080/",
          "height": 86
        },
        "outputId": "43600076-4225-4c69-944b-42fc679e3dcf"
      },
      "source": [
        "# all work and no play makes Jack a dull boy\n",
        "\n",
        "a = \"All \"\n",
        "b = \"work \"\n",
        "c = \"and \"\n",
        "d = \"no \"\n",
        "e = \"play \"\n",
        "f = \"makes \"\n",
        "g = \"Jack \"\n",
        "h = \"a \"\n",
        "i = \"dull \"\n",
        "j = \"boy \"\n",
        "\n",
        "print(a + b + c + d + e + f + g + h + i + j)\n",
        "\n",
        "# given two input variables a & b, run the algorithm\n",
        "\n",
        "numA = float(input(\"please input variable a: \"))\n",
        "numB = float(input(\"please input variable b: \"))\n",
        "\n",
        "S = 3.14 * pow((1 + (numA / numB)),3)\n",
        "\n",
        "print(S)"
      ],
      "execution_count": 4,
      "outputs": [
        {
          "output_type": "stream",
          "text": [
            "All work and no play makes Jack a dull boy \n",
            "please input variable a: 50\n",
            "please input variable b: 3.14\n",
            "15219.674139316\n"
          ],
          "name": "stdout"
        }
      ]
    }
  ]
}
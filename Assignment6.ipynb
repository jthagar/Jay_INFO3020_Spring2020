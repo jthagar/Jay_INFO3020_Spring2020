{
  "nbformat": 4,
  "nbformat_minor": 0,
  "metadata": {
    "colab": {
      "name": "Assignment6.ipynb",
      "provenance": [],
      "collapsed_sections": [],
      "authorship_tag": "ABX9TyPZyL77oJiu+tETMPx7ULCv",
      "include_colab_link": true
    },
    "kernelspec": {
      "name": "python3",
      "display_name": "Python 3"
    }
  },
  "cells": [
    {
      "cell_type": "markdown",
      "metadata": {
        "id": "view-in-github",
        "colab_type": "text"
      },
      "source": [
        "<a href=\"https://colab.research.google.com/github/jthagar/Jay_INFO3020_Spring2020/blob/master/Assignment6.ipynb\" target=\"_parent\"><img src=\"https://colab.research.google.com/assets/colab-badge.svg\" alt=\"Open In Colab\"/></a>"
      ]
    },
    {
      "cell_type": "code",
      "metadata": {
        "id": "6-3DxP4Nh3YX",
        "colab_type": "code",
        "colab": {
          "base_uri": "https://localhost:8080/",
          "height": 399
        },
        "outputId": "07c9928d-6776-41b0-b473-09a2ca68f89f"
      },
      "source": [
        "#question 1\n",
        "import random\n",
        "import numpy as np\n",
        "\n",
        "def numWrite(numFile):\n",
        "  with open(numFile + \".txt\", \"w\") as output:\n",
        "    for num in range(20):\n",
        "      output.write(str(random.randint(1,400)) + \" \")\n",
        "  print(\"end of func1\")\n",
        "\n",
        "def mapArray(numFile):\n",
        "  numArray = []\n",
        "  mask = 100\n",
        "  with open(numFile + \".txt\", \"r\") as intake:\n",
        "    numLine = intake.readlines()\n",
        "    #print(numLine)\n",
        "    numWords = numLine[0].split()\n",
        "    #appends the int-type transformed nums into the numArray\n",
        "    for num in numWords:\n",
        "      numArray.append(int(num))\n",
        "      #numArray.sort() : unnecessary\n",
        "    #imported numpy in order to use built-in array methods for the mask\n",
        "    arrayPy = np.array(numArray)\n",
        "    arrayPy[arrayPy>mask]=100\n",
        "  with open(\"numbers.txt\", \"w\") as output:\n",
        "    for num in arrayPy:\n",
        "      print(num)\n",
        "      output.write(str(num) + \"\\n\")\n",
        "\n",
        "fileName = \"test\"\n",
        "numWrite(fileName)\n",
        "mapArray(fileName)"
      ],
      "execution_count": 20,
      "outputs": [
        {
          "output_type": "stream",
          "text": [
            "end of func1\n",
            "['266 109 323 19 343 245 44 82 25 152 93 72 99 281 353 352 154 46 321 149 ']\n",
            "100\n",
            "100\n",
            "100\n",
            "19\n",
            "100\n",
            "100\n",
            "44\n",
            "82\n",
            "25\n",
            "100\n",
            "93\n",
            "72\n",
            "99\n",
            "100\n",
            "100\n",
            "100\n",
            "100\n",
            "46\n",
            "100\n",
            "100\n"
          ],
          "name": "stdout"
        }
      ]
    },
    {
      "cell_type": "code",
      "metadata": {
        "id": "RGnlcAUSpdKv",
        "colab_type": "code",
        "colab": {
          "base_uri": "https://localhost:8080/",
          "height": 416
        },
        "outputId": "981d7138-8295-4226-a374-33ffbe00951b"
      },
      "source": [
        "#question 2\n",
        "import random as Busey\n",
        "import numpy as np\n",
        "\n",
        "# I am not a fan of hardcoding\n",
        "\n",
        "#########################################\n",
        "## Code block to make the tuple for testing purposes\n",
        "def addStudent(studentTuple, idCode, name):\n",
        "  #assuming equal length inputs\n",
        "  person = (int(idCode), str(name))\n",
        "  studentTuple.append(person)\n",
        "  # print(studentTuple)\n",
        "  return studentTuple\n",
        "\n",
        "def makeStudentTestList():\n",
        "  studentTuple = []\n",
        "  for num in range(10):\n",
        "    addStudent(studentTuple,Busey.randint(1000,9999),randName())\n",
        "  return studentTuple\n",
        "\n",
        "def randName():\n",
        "  letters = ['a','b','c','d','e','f','g','h','i','j','k','l','m','n','o','p','q','r','s','t','u','v','w','x','y','z']\n",
        "  name = \"\"\n",
        "  for i in range(10):\n",
        "    num = Busey.randint(0,23)\n",
        "    name = name + letters[num]\n",
        "  return name\n",
        "############################################\n",
        "\n",
        "############################################\n",
        "## Code block for the input and output functions\n",
        "def writeTuple(inputTuple):\n",
        "  with open(\"students.txt\", \"w\") as f:\n",
        "    for index in range(len(inputTuple)):\n",
        "      l = list(inputTuple[index])\n",
        "      f.write(str(l[0]) + \" \" + str(l[1]) + \"\\n\")\n",
        "      print(l)\n",
        "  # this extra fuction splits the output of the write and read functions I created\n",
        "  # making the shuffle more easy to see\n",
        "  print(\"\\n\\n\")\n",
        "\n",
        "def readTuple(inputFile):\n",
        "  newTuple = []\n",
        "  with open(inputFile, \"r\") as f:\n",
        "    allLines = f.readlines()\n",
        "    Busey.shuffle(allLines)\n",
        "    for index in range(len(allLines)):\n",
        "      group = allLines[index].split()\n",
        "      addStudent(newTuple,int(group[0]),group[1])\n",
        "      print(newTuple[index])\n",
        "############################################\n",
        "\n",
        "testTuple = makeStudentTestList()\n",
        "print(\"List of Student tuples before writing to file: \\n\")\n",
        "writeTuple(testTuple)\n",
        "print(\"List of Students after reading from file and shuffling\")\n",
        "readTuple(\"students.txt\")"
      ],
      "execution_count": 21,
      "outputs": [
        {
          "output_type": "stream",
          "text": [
            "[5788, 'rfornkttfr']\n",
            "[1929, 'huqnjgqljx']\n",
            "[6965, 'cjtwlnpwmf']\n",
            "[7384, 'mhnguubdes']\n",
            "[6456, 'exaahiqwro']\n",
            "[8990, 'ntrptvnjbm']\n",
            "[2252, 'swwswnmxhb']\n",
            "[4900, 'kdojtjlkwf']\n",
            "[3657, 'hfxdtfjtpc']\n",
            "[2158, 'jfgwilfcxq']\n",
            "\n",
            "\n",
            "\n",
            "(1929, 'huqnjgqljx')\n",
            "(8990, 'ntrptvnjbm')\n",
            "(2158, 'jfgwilfcxq')\n",
            "(5788, 'rfornkttfr')\n",
            "(6456, 'exaahiqwro')\n",
            "(4900, 'kdojtjlkwf')\n",
            "(2252, 'swwswnmxhb')\n",
            "(6965, 'cjtwlnpwmf')\n",
            "(3657, 'hfxdtfjtpc')\n",
            "(7384, 'mhnguubdes')\n"
          ],
          "name": "stdout"
        }
      ]
    }
  ]
}